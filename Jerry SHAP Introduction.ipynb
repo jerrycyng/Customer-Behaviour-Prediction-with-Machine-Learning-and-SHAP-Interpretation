{
 "cells": [
  {
   "cell_type": "markdown",
   "id": "44170bbf",
   "metadata": {},
   "source": [
    "# Shapley Values\n",
    "\n",
    "Assume there's a predictive model have a $\\vec{x}\\space(x1, x2, x3)$ as the input variables, and $y$ as the corresponding variabe.\n",
    "Below is the sample ouput:\n",
    "\n",
    "| x1 | x2 | x3 | y | $\\hat y$ |\n",
    "| --- | --- | --- | --- | --- |\n",
    "| 1 | 0 | 0 | 5 | 2.5 |\n",
    "| 0 | 1 | 0 | 10 | 10 |\n",
    "| 0 | 0 | 1 | 15 | 17.5 |\n",
    "| 1 | 1 | 0 | 20 | 22.5 |\n",
    "| 1 | 0 | 1 | 30 | 30 |\n",
    "| 0 | 1 | 1 | 40 | 37.5 |\n",
    "| 1 | 1 | 1 | 50 | 50 |"
   ]
  },
  {
   "cell_type": "code",
   "execution_count": 1,
   "id": "67563f59",
   "metadata": {},
   "outputs": [
    {
     "data": {
      "text/plain": [
       "array([[ 2.5],\n",
       "       [10. ],\n",
       "       [17.5],\n",
       "       [22.5],\n",
       "       [30. ],\n",
       "       [37.5],\n",
       "       [50. ]])"
      ]
     },
     "execution_count": 1,
     "metadata": {},
     "output_type": "execute_result"
    }
   ],
   "source": [
    "import pandas as pd\n",
    "from sklearn.linear_model import LinearRegression\n",
    "sample_X = pd.DataFrame(data={\"x1\": [1,0,0,1,1,0,1], \"x2\":[0,1,0,1,0,1,1], \"x3\":[0,0,1,0,1,1,1]})\n",
    "sample_y = pd.DataFrame(data={\"y\": [5,10,15,20,30,40,50]})\n",
    "clf = LinearRegression().fit(sample_X, sample_y)\n",
    "y_hat = clf.predict(sample_X)\n",
    "y_hat"
   ]
  },
  {
   "cell_type": "code",
   "execution_count": 7,
   "id": "3602c3db",
   "metadata": {},
   "outputs": [],
   "source": [
    "import shap\n",
    "import numpy as np\n",
    "explainer = shap.Explainer(clf, sample_X)\n",
    "shap_values = explainer(sample_X)"
   ]
  },
  {
   "cell_type": "code",
   "execution_count": 8,
   "id": "d819566f",
   "metadata": {},
   "outputs": [
    {
     "name": "stdout",
     "output_type": "stream",
     "text": [
      "[5.32907052e-15 3.55271368e-15 3.55271368e-15]\n",
      "[ 2.5 10.  17.5 22.5 30.  37.5 50. ]\n"
     ]
    }
   ],
   "source": [
    "shap_values[0,:].values.sum() + shap_values[0,:].base_values\n",
    "print(np.sum(shap_values.values, axis = 0)) # 0 mean distribution of shapley values per feature, dummy\n",
    "print(np.sum(shap_values.values, axis = 1) + shap_values[0,:].base_values) # feature contribution = y_hat - base_value, efficiency"
   ]
  },
  {
   "cell_type": "markdown",
   "id": "f5aa31bc",
   "metadata": {},
   "source": [
    "# Feature Importance\n",
    "\n",
    "SHAP feature importance measured as the mean absolute Shapley values. "
   ]
  },
  {
   "cell_type": "markdown",
   "id": "f714ca1c",
   "metadata": {},
   "source": [
    "X3 was the most important feature, changing the predicted value on average by 14. "
   ]
  },
  {
   "cell_type": "code",
   "execution_count": 9,
   "id": "1e93f099",
   "metadata": {
    "scrolled": true
   },
   "outputs": [
    {
     "data": {
      "image/png": "[encoded data removed]",
      "text/plain": [
       "<Figure size 576x194.4 with 1 Axes>"
      ]
     },
     "metadata": {
      "needs_background": "light"
     },
     "output_type": "display_data"
    }
   ],
   "source": [
    "#Feature Importance \n",
    "shap.summary_plot(shap_values.values,sample_X, plot_type=\"bar\")"
   ]
  },
  {
   "cell_type": "markdown",
   "id": "b18af0e5",
   "metadata": {},
   "source": [
    "# Force plot\n",
    "\n",
    "The SHAP force plot shows us exactly which features had the most influence on the model's prediction for a single observation."
   ]
  },
  {
   "cell_type": "markdown",
   "id": "1e11b107",
   "metadata": {},
   "source": [
    "The prediction for the first row have been intrepreted as below. "
   ]
  },
  {
   "cell_type": "code",
   "execution_count": 5,
   "id": "e707a38f",
   "metadata": {},
   "outputs": [
    {
     "data": {
      "text/html": [
       "\n",
       "<div id='iWJ66S9CYKU5M6F610TSO'>\n",
       "<div style='color: #900; text-align: center;'>\n",
       "  <b>Visualization omitted, Javascript library not loaded!</b><br>\n",
       "  Have you run `initjs()` in this notebook? If this notebook was from another\n",
       "  user you must also trust this notebook (File -> Trust notebook). If you are viewing\n",
       "  this notebook on github the Javascript has been stripped for security. If you are using\n",
       "  JupyterLab this error is because a JupyterLab extension has not yet been written.\n",
       "</div></div>\n",
       " <script>\n",
       "   if (window.SHAP) SHAP.ReactDom.render(\n",
       "    SHAP.React.createElement(SHAP.AdditiveForceVisualizer, {\"outNames\": [\"f(x)\"], \"baseValue\": 24.285714285714285, \"outValue\": 2.499999999999993, \"link\": \"identity\", \"featureNames\": [\"x1\", \"x2\", \"x3\"], \"features\": {\"0\": {\"effect\": 5.357142857142859, \"value\": 1.0}, \"1\": {\"effect\": -11.428571428571434, \"value\": 0.0}, \"2\": {\"effect\": -15.714285714285715, \"value\": 0.0}}, \"plot_cmap\": \"RdBu\", \"labelMargin\": 20}),\n",
       "    document.getElementById('iWJ66S9CYKU5M6F610TSO')\n",
       "  );\n",
       "</script>"
      ],
      "text/plain": [
       "<shap.plots._force.AdditiveForceVisualizer at 0x2d5d65e9df0>"
      ]
     },
     "execution_count": 5,
     "metadata": {},
     "output_type": "execute_result"
    }
   ],
   "source": [
    "shap.force_plot(shap_values[0,:], sample_X.iloc[0,:])"
   ]
  }
 ],
 "metadata": {
  "kernelspec": {
   "display_name": "Python 3",
   "language": "python",
   "name": "python3"
  },
  "language_info": {
   "codemirror_mode": {
    "name": "ipython",
    "version": 3
   },
   "file_extension": ".py",
   "mimetype": "text/x-python",
   "name": "python",
   "nbconvert_exporter": "python",
   "pygments_lexer": "ipython3",
   "version": "3.8.8"
  }
 },
 "nbformat": 4,
 "nbformat_minor": 5
}
